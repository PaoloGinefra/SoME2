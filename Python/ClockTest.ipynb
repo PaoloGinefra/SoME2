{
 "cells": [
  {
   "cell_type": "markdown",
   "metadata": {},
   "source": [
    "# Clock Game Sync Word Finder"
   ]
  },
  {
   "cell_type": "code",
   "execution_count": 10,
   "metadata": {},
   "outputs": [],
   "source": [
    "Numbers = [\n",
    "    'dodici',\n",
    "    'uno',\n",
    "    'due',\n",
    "    'tre',\n",
    "    'quattro',\n",
    "    'cinque',\n",
    "    'sei',\n",
    "    'sette',\n",
    "    'otto',\n",
    "    'nove',\n",
    "    'dieci',\n",
    "    'undici',\n",
    "]\n",
    "\n",
    "nNumbers = len(Numbers)"
   ]
  },
  {
   "cell_type": "code",
   "execution_count": 12,
   "metadata": {},
   "outputs": [
    {
     "data": {
      "text/plain": [
       "[[6, 6],\n",
       " [3, 4],\n",
       " [3, 5],\n",
       " [3, 6],\n",
       " [7, 11],\n",
       " [6, 11],\n",
       " [3, 9],\n",
       " [5, 0],\n",
       " [4, 0],\n",
       " [4, 1],\n",
       " [5, 3],\n",
       " [6, 5]]"
      ]
     },
     "execution_count": 12,
     "metadata": {},
     "output_type": "execute_result"
    }
   ],
   "source": [
    "Automaton = [[len(n) % nNumbers, (len(n) + i) % nNumbers] for i, n in enumerate(Numbers)]\n",
    "Automaton"
   ]
  },
  {
   "cell_type": "code",
   "execution_count": 56,
   "metadata": {},
   "outputs": [],
   "source": [
    "#Automaton for Italian Regions\n",
    "Automaton = [\n",
    "    [7, 11],\n",
    "    [5, 3],\n",
    "    [1, 3],\n",
    "    [6, 0],\n",
    "    [5, 1],\n",
    "    [7, 6],\n",
    "    [0, 7],\n",
    "    [8, 11],\n",
    "    [9, 5],\n",
    "    [5, 4],\n",
    "    [9, 8],\n",
    "    [10, 8],\n",
    "]"
   ]
  },
  {
   "cell_type": "code",
   "execution_count": 13,
   "metadata": {},
   "outputs": [],
   "source": [
    "def Delta(state, move):\n",
    "    return Automaton[state][move]"
   ]
  },
  {
   "cell_type": "code",
   "execution_count": 14,
   "metadata": {},
   "outputs": [],
   "source": [
    "def Execute(word, starting_state):\n",
    "    state = starting_state\n",
    "    for c in word:\n",
    "        state = Delta(state, int(c))\n",
    "    return state"
   ]
  },
  {
   "cell_type": "code",
   "execution_count": 15,
   "metadata": {},
   "outputs": [],
   "source": [
    "def hasKnownSyncWord(SyncWords, word):\n",
    "    for w in SyncWords:\n",
    "        if w in word:\n",
    "            return True\n",
    "    return False"
   ]
  },
  {
   "cell_type": "code",
   "execution_count": 57,
   "metadata": {},
   "outputs": [
    {
     "name": "stdout",
     "output_type": "stream",
     "text": [
      "9586 AABABABBBABAA -> {9}\n"
     ]
    }
   ],
   "source": [
    "maxLen = 15\n",
    "iter = 2**maxLen\n",
    "SyncWords = []\n",
    "\n",
    "for n in range(iter):\n",
    "    word = str(format(n + 2, 'b'))[1:]\n",
    "    if not hasKnownSyncWord(SyncWords, word):\n",
    "        outSet = set()\n",
    "\n",
    "        for i in range(nNumbers):\n",
    "            output = Execute(word, i)\n",
    "            outSet.add(output)\n",
    "            \n",
    "        if(len(outSet) == 1):\n",
    "            SyncWords.append(word)\n",
    "            print(n, word.replace('0', 'A').replace('1', 'B') + ' ->', outSet)\n",
    "            break"
   ]
  },
  {
   "cell_type": "code",
   "execution_count": 35,
   "metadata": {},
   "outputs": [],
   "source": [
    "import numpy as np"
   ]
  },
  {
   "cell_type": "code",
   "execution_count": 48,
   "metadata": {},
   "outputs": [],
   "source": [
    "def Step(State, move):\n",
    "    res = set()\n",
    "    for s in State:\n",
    "        res.add(Automaton[s][move])\n",
    "    return tuple(res)\n",
    "\n",
    "def Neighbors(State):\n",
    "    output = []\n",
    "    for m in range(len(Automaton[0])):\n",
    "        output.append(Step(State, m))\n",
    "    return output\n",
    "\n",
    "def minOpen(Open, FScores):\n",
    "    minScore = FScores[Open[0]]\n",
    "    out = Open[0]\n",
    "    for o in Open[1:]:\n",
    "        score = FScores[o]\n",
    "        if score < minScore:\n",
    "            minScore = score\n",
    "            out = o\n",
    "    return out\n",
    "\n",
    "def BuildPath(CameFrom, node):\n",
    "    if node in CameFrom:\n",
    "        return BuildPath(CameFrom, CameFrom[node][1]) + str(CameFrom[node][0])\n",
    "    else:\n",
    "        return \"\"\n"
   ]
  },
  {
   "cell_type": "code",
   "execution_count": 39,
   "metadata": {},
   "outputs": [],
   "source": [
    "def H_Dis(state):\n",
    "    return len(state)\n",
    "\n",
    "def G_dis(state1, state2):\n",
    "    return 1"
   ]
  },
  {
   "cell_type": "code",
   "execution_count": 58,
   "metadata": {},
   "outputs": [
    {
     "name": "stdout",
     "output_type": "stream",
     "text": [
      "139 AABABBBABBBAB -> (11,)\n"
     ]
    }
   ],
   "source": [
    "def ShortestWord():\n",
    "    InitialState = tuple([_ for _ in range(nNumbers)])\n",
    "    steps = 0\n",
    "\n",
    "    Open = [InitialState]\n",
    "    Closed = []\n",
    "\n",
    "    GScores = {InitialState: 0}\n",
    "    HScores = {InitialState: H_Dis(InitialState)}\n",
    "    FScores = {InitialState: HScores[InitialState]}\n",
    "\n",
    "    cameFrom = {}\n",
    "\n",
    "    while len(Open) != 0:\n",
    "        current = minOpen(Open, FScores)\n",
    "        steps += 1\n",
    "\n",
    "        if len(current) == 1:\n",
    "            return BuildPath(cameFrom, current), current, steps\n",
    "            \n",
    "        Open.remove(current)\n",
    "        Closed.append(current)\n",
    "\n",
    "        for i, n in enumerate(Neighbors(current)):\n",
    "            if n in Closed:\n",
    "                continue\n",
    "\n",
    "            tentativeGScore = GScores[current] + G_dis(current, n)\n",
    "\n",
    "            if not n in Open:\n",
    "                Open.append(n)\n",
    "                betterTentative = True\n",
    "            elif tentativeGScore < GScores[n]:\n",
    "                betterTentative = True\n",
    "            else:\n",
    "                betterTentative = False\n",
    "\n",
    "            if betterTentative:\n",
    "                cameFrom[n] = (i, current)\n",
    "\n",
    "                GScores[n] = tentativeGScore\n",
    "                HScores[n] = H_Dis(n)\n",
    "                FScores[n] = GScores[n] + HScores[n]\n",
    "    return 'Failure'\n",
    "\n",
    "word, end, steps = ShortestWord()\n",
    "word = word.replace('0', 'A').replace('1', 'B')\n",
    "print(steps, word, '->', end)\n"
   ]
  },
  {
   "cell_type": "code",
   "execution_count": null,
   "metadata": {},
   "outputs": [
    {
     "ename": "TypeError",
     "evalue": "list indices must be integers or slices, not tuple",
     "output_type": "error",
     "traceback": [
      "\u001b[1;31m---------------------------------------------------------------------------\u001b[0m\n",
      "\u001b[1;31mTypeError\u001b[0m                                 Traceback (most recent call last)\n",
      "\u001b[1;32mc:\\Polimi\\Primo_anno\\2nd Sem\\SoME2\\Python\\ClockTest.ipynb Cell 10'\u001b[0m in \u001b[0;36m<cell line: 2>\u001b[1;34m()\u001b[0m\n",
      "\u001b[0;32m      <a href='vscode-notebook-cell:/c%3A/Polimi/Primo_anno/2nd%20Sem/SoME2/Python/ClockTest.ipynb#ch0000008?line=0'>1</a>\u001b[0m InitialState \u001b[39m=\u001b[39m [_ \u001b[39mfor\u001b[39;00m _ \u001b[39min\u001b[39;00m \u001b[39mrange\u001b[39m(nNumbers)]\n",
      "\u001b[1;32m----> <a href='vscode-notebook-cell:/c%3A/Polimi/Primo_anno/2nd%20Sem/SoME2/Python/ClockTest.ipynb#ch0000008?line=1'>2</a>\u001b[0m Step(InitialState, \u001b[39m0\u001b[39;49m)\n",
      "\n",
      "\u001b[1;32mc:\\Polimi\\Primo_anno\\2nd Sem\\SoME2\\Python\\ClockTest.ipynb Cell 9'\u001b[0m in \u001b[0;36mStep\u001b[1;34m(State, move)\u001b[0m\n",
      "\u001b[0;32m      <a href='vscode-notebook-cell:/c%3A/Polimi/Primo_anno/2nd%20Sem/SoME2/Python/ClockTest.ipynb#ch0000009?line=1'>2</a>\u001b[0m res \u001b[39m=\u001b[39m \u001b[39mset\u001b[39m()\n",
      "\u001b[0;32m      <a href='vscode-notebook-cell:/c%3A/Polimi/Primo_anno/2nd%20Sem/SoME2/Python/ClockTest.ipynb#ch0000009?line=2'>3</a>\u001b[0m \u001b[39mfor\u001b[39;00m s \u001b[39min\u001b[39;00m State:\n",
      "\u001b[1;32m----> <a href='vscode-notebook-cell:/c%3A/Polimi/Primo_anno/2nd%20Sem/SoME2/Python/ClockTest.ipynb#ch0000009?line=3'>4</a>\u001b[0m     res\u001b[39m.\u001b[39madd(Automaton[s, move])\n",
      "\u001b[0;32m      <a href='vscode-notebook-cell:/c%3A/Polimi/Primo_anno/2nd%20Sem/SoME2/Python/ClockTest.ipynb#ch0000009?line=4'>5</a>\u001b[0m \u001b[39mreturn\u001b[39;00m res\n",
      "\n",
      "\u001b[1;31mTypeError\u001b[0m: list indices must be integers or slices, not tuple"
     ]
    }
   ],
   "source": [
    "InitialState = [_ for _ in range(nNumbers)]\n",
    "Step(InitialState, 0)\n"
   ]
  }
 ],
 "metadata": {
  "kernelspec": {
   "display_name": "Python 3.10.2 64-bit",
   "language": "python",
   "name": "python3"
  },
  "language_info": {
   "codemirror_mode": {
    "name": "ipython",
    "version": 3
   },
   "file_extension": ".py",
   "mimetype": "text/x-python",
   "name": "python",
   "nbconvert_exporter": "python",
   "pygments_lexer": "ipython3",
   "version": "3.10.2"
  },
  "orig_nbformat": 4,
  "vscode": {
   "interpreter": {
    "hash": "369f2c481f4da34e4445cda3fffd2e751bd1c4d706f27375911949ba6bb62e1c"
   }
  }
 },
 "nbformat": 4,
 "nbformat_minor": 2
}
