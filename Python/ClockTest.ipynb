{
 "cells": [
  {
   "cell_type": "markdown",
   "metadata": {},
   "source": [
    "# Clock Game Sync Word Finder"
   ]
  },
  {
   "cell_type": "code",
   "execution_count": 31,
   "metadata": {},
   "outputs": [],
   "source": [
    "Numbers = [\n",
    "    'dodici',\n",
    "    'uno',\n",
    "    'due',\n",
    "    'tre',\n",
    "    'quattro',\n",
    "    'cinque',\n",
    "    'sei',\n",
    "    'sette',\n",
    "    'otto',\n",
    "    'nove',\n",
    "    'dieci',\n",
    "    'undici',\n",
    "]\n",
    "\n",
    "nNumbers = len(Numbers)"
   ]
  },
  {
   "cell_type": "code",
   "execution_count": 32,
   "metadata": {},
   "outputs": [],
   "source": [
    "#Automaton for Italian Regions\n",
    "Automaton = [\n",
    "    [7, 11],\n",
    "    [5, 3],\n",
    "    [1, 3],\n",
    "    [6, 0],\n",
    "    [5, 1],\n",
    "    [7, 6],\n",
    "    [0, 7],\n",
    "    [8, 11],\n",
    "    [9, 5],\n",
    "    [5, 4],\n",
    "    [9, 8],\n",
    "    [10, 8],\n",
    "]"
   ]
  },
  {
   "cell_type": "code",
   "execution_count": 33,
   "metadata": {},
   "outputs": [
    {
     "data": {
      "text/plain": [
       "[[6, 6],\n",
       " [3, 4],\n",
       " [3, 5],\n",
       " [3, 6],\n",
       " [7, 11],\n",
       " [6, 11],\n",
       " [3, 9],\n",
       " [5, 0],\n",
       " [4, 0],\n",
       " [4, 1],\n",
       " [5, 3],\n",
       " [6, 5]]"
      ]
     },
     "execution_count": 33,
     "metadata": {},
     "output_type": "execute_result"
    }
   ],
   "source": [
    "Automaton = [[len(n) % nNumbers, (len(n) + i) % nNumbers] for i, n in enumerate(Numbers)]\n",
    "Automaton"
   ]
  },
  {
   "cell_type": "code",
   "execution_count": 34,
   "metadata": {},
   "outputs": [],
   "source": [
    "def Delta(state, move):\n",
    "    return Automaton[state][move]"
   ]
  },
  {
   "cell_type": "code",
   "execution_count": 35,
   "metadata": {},
   "outputs": [],
   "source": [
    "def Execute(word, starting_state):\n",
    "    state = starting_state\n",
    "    for c in word:\n",
    "        state = Delta(state, int(c))\n",
    "    return state"
   ]
  },
  {
   "cell_type": "code",
   "execution_count": 36,
   "metadata": {},
   "outputs": [],
   "source": [
    "def hasKnownSyncWord(SyncWords, word):\n",
    "    for w in SyncWords:\n",
    "        if w in word:\n",
    "            return True\n",
    "    return False"
   ]
  },
  {
   "cell_type": "code",
   "execution_count": 37,
   "metadata": {},
   "outputs": [
    {
     "name": "stdout",
     "output_type": "stream",
     "text": [
      "30 AAAAA -> {3}\n",
      "98 BAABAA -> {3}\n",
      "252 BBBBBBA -> {6}\n",
      "322 ABAAABAA -> {3}\n",
      "494 BBBBAAAA -> {3}\n",
      "530 AAAABABAA -> {3}\n",
      "572 AAABBBBBA -> {6}\n",
      "700 ABABBBBBA -> {6}\n",
      "706 ABBAAABAA -> {3}\n",
      "1012 BBBBBABBA -> {3}\n",
      "1074 AAAABBABAA -> {3}\n",
      "1134 AAABBBAAAA -> {3}\n",
      "1306 ABAAABBBAA -> {3}\n",
      "1309 ABAAABBBBB -> {11}\n",
      "1330 ABAABBABAA -> {3}\n",
      "1390 ABABBBAAAA -> {3}\n",
      "1468 ABBABBBBBA -> {6}\n",
      "1618 BAABABABAA -> {3}\n",
      "2138 AAAABABBBAA -> {3}\n",
      "2141 AAAABABBBBB -> {11}\n",
      "2162 AAAABBBABAA -> {3}\n",
      "2292 AAABBBBABBA -> {3}\n",
      "2674 ABAABBBABAA -> {3}\n",
      "2804 ABABBBBABBA -> {3}\n",
      "2842 ABBAAABBBAA -> {3}\n",
      "2845 ABBAAABBBBB -> {11}\n",
      "2866 ABBAABBABAA -> {3}\n",
      "2926 ABBABBBAAAA -> {3}\n",
      "3250 BAABABBABAA -> {3}\n",
      "3994 BBBBAABBBAA -> {3}\n",
      "3997 BBBBAABBBBB -> {11}\n",
      "4018 BBBBABBABAA -> {3}\n",
      "4314 AAAABBABBBAA -> {3}\n",
      "4317 AAAABBABBBBB -> {11}\n",
      "5202 ABAAABABABAA -> {3}\n",
      "5226 ABAAABBABBAA -> {3}\n",
      "5338 ABAABBABBBAA -> {3}\n",
      "5341 ABAABBABBBBB -> {11}\n",
      "5362 ABAABBBBABAA -> {3}\n",
      "5746 ABBAABBBABAA -> {3}\n",
      "5876 ABBABBBBABBA -> {3}\n",
      "6490 BAABABABBBAA -> {3}\n",
      "6493 BAABABABBBBB -> {11}\n",
      "6514 BAABABBBABAA -> {3}\n",
      "6594 BAABBBAAABAA -> {3}\n",
      "7954 BBBBAAABABAA -> {3}\n",
      "8050 BBBBABBBABAA -> {3}\n",
      "8106 BBBBBABABBAA -> {3}\n",
      "8120 BBBBBABBBABA -> {6}\n",
      "8122 BBBBBABBBBAA -> {3}\n",
      "8125 BBBBBABBBBBB -> {11}\n",
      "8530 AAAABABABABAA -> {3}\n",
      "8554 AAAABABBABBAA -> {3}\n",
      "9114 AAABBBAABBBAA -> {3}\n",
      "9117 AAABBBAABBBBB -> {11}\n",
      "9138 AAABBBABBABAA -> {3}\n",
      "10418 ABAAABABBABAA -> {3}\n",
      "10460 ABAAABBABBBBA -> {6}\n",
      "10714 ABAABBBABBBAA -> {3}\n",
      "10717 ABAABBBABBBBB -> {11}\n",
      "11162 ABABBBAABBBAA -> {3}\n",
      "11165 ABABBBAABBBBB -> {11}\n",
      "11186 ABABBBABBABAA -> {3}\n",
      "11346 ABBAAABABABAA -> {3}\n",
      "11370 ABBAAABBABBAA -> {3}\n",
      "11482 ABBAABBABBBAA -> {3}\n",
      "11485 ABBAABBABBBBB -> {11}\n",
      "11506 ABBAABBBBABAA -> {3}\n",
      "13018 BAABABBABBBAA -> {3}\n",
      "13021 BAABABBABBBBB -> {11}\n",
      "13244 BAABBBABBBBBA -> {6}\n",
      "15922 BBBBAAABBABAA -> {3}\n",
      "15978 BBBBAABBABBAA -> {3}\n",
      "16090 BBBBABBABBBAA -> {3}\n",
      "16093 BBBBABBABBBBB -> {11}\n",
      "16220 BBBBBABABBBBA -> {6}\n",
      "16240 BBBBBABBBAABA -> {6}\n",
      "17074 AAAABABABBABAA -> {3}\n",
      "17116 AAAABABBABBBBA -> {6}\n",
      "17234 AAAABBABABABAA -> {3}\n",
      "17258 AAAABBABBABBAA -> {3}\n",
      "18194 AAABBBAAABABAA -> {3}\n",
      "18290 AAABBBABBBABAA -> {3}\n",
      "18346 AAABBBBABABBAA -> {3}\n",
      "18360 AAABBBBABBBABA -> {6}\n",
      "18362 AAABBBBABBBBAA -> {3}\n",
      "18365 AAABBBBABBBBBB -> {11}\n",
      "20826 ABAAABABABBBAA -> {3}\n",
      "20829 ABAAABABABBBBB -> {11}\n",
      "20850 ABAAABABBBABAA -> {3}\n",
      "20906 ABAAABBABABBAA -> {3}\n",
      "20946 ABAAABBBABABAA -> {3}\n",
      "21330 ABAABBABABABAA -> {3}\n",
      "21354 ABAABBABBABBAA -> {3}\n",
      "22290 ABABBBAAABABAA -> {3}\n",
      "22386 ABABBBABBBABAA -> {3}\n",
      "22442 ABABBBBABABBAA -> {3}\n",
      "22456 ABABBBBABBBABA -> {6}\n",
      "22458 ABABBBBABBBBAA -> {3}\n",
      "22461 ABABBBBABBBBBB -> {11}\n",
      "22706 ABBAAABABBABAA -> {3}\n",
      "22748 ABBAAABBABBBBA -> {6}\n",
      "23002 ABBAABBBABBBAA -> {3}\n",
      "23005 ABBAABBBABBBBB -> {11}\n",
      "23450 ABBABBBAABBBAA -> {3}\n",
      "23453 ABBABBBAABBBBB -> {11}\n",
      "23474 ABBABBBABBABAA -> {3}\n",
      "25938 BAABABABABABAA -> {3}\n",
      "25962 BAABABABBABBAA -> {3}\n",
      "26394 BAABBBAAABBBAA -> {3}\n",
      "26397 BAABBBAAABBBBB -> {11}\n",
      "26418 BAABBBAABBABAA -> {3}\n",
      "26478 BAABBBABBBAAAA -> {3}\n",
      "31834 BBBBAAABABBBAA -> {3}\n",
      "31837 BBBBAAABABBBBB -> {11}\n",
      "31858 BBBBAAABBBABAA -> {3}\n",
      "31964 BBBBAABBABBBBA -> {6}\n",
      "31988 BBBBAABBBBABBA -> {3}\n",
      "32426 BBBBBABABABBAA -> {3}\n",
      "32490 BBBBBABBBABBAA -> {3}\n"
     ]
    }
   ],
   "source": [
    "maxLen = 15\n",
    "iter = 2**maxLen\n",
    "SyncWords = []\n",
    "\n",
    "for n in range(iter):\n",
    "    word = str(format(n + 2, 'b'))[1:]\n",
    "    if not hasKnownSyncWord(SyncWords, word):\n",
    "        outSet = set()\n",
    "\n",
    "        for i in range(nNumbers):\n",
    "            output = Execute(word, i)\n",
    "            outSet.add(output)\n",
    "            \n",
    "        if(len(outSet) == 1):\n",
    "            SyncWords.append(word)\n",
    "            print(n, word.replace('0', 'A').replace('1', 'B') + ' ->', outSet)"
   ]
  },
  {
   "cell_type": "code",
   "execution_count": 39,
   "metadata": {},
   "outputs": [],
   "source": [
    "def Step(State, move):\n",
    "    res = set()\n",
    "    for s in State:\n",
    "        res.add(Automaton[s][move])\n",
    "    return tuple(sorted(res))\n",
    "\n",
    "def Neighbors(State):\n",
    "    output = []\n",
    "    for m in range(len(Automaton[0])):\n",
    "        output.append(Step(State, m))\n",
    "    return output\n",
    "\n",
    "def minOpen(Open, FScores):\n",
    "    minScore = FScores[Open[0]]\n",
    "    out = Open[0]\n",
    "    for o in Open[1:]:\n",
    "        score = FScores[o]\n",
    "        if score < minScore:\n",
    "            minScore = score\n",
    "            out = o\n",
    "    return out\n",
    "\n",
    "def BuildPath(CameFrom, node):\n",
    "    if node in CameFrom:\n",
    "        return BuildPath(CameFrom, CameFrom[node][1]) + str(CameFrom[node][0])\n",
    "    else:\n",
    "        return \"\"\n"
   ]
  },
  {
   "cell_type": "code",
   "execution_count": 40,
   "metadata": {},
   "outputs": [],
   "source": [
    "def H_Dis(state):\n",
    "    return len(state)\n",
    "\n",
    "def G_dis(state1, state2):\n",
    "    return 1"
   ]
  },
  {
   "cell_type": "code",
   "execution_count": 48,
   "metadata": {},
   "outputs": [
    {
     "name": "stdout",
     "output_type": "stream",
     "text": [
      "9 AAAAA -> (3,)\n"
     ]
    }
   ],
   "source": [
    "def ShortestWord():\n",
    "    InitialState = tuple([_ for _ in range(nNumbers)])\n",
    "    steps = 0\n",
    "\n",
    "    Open = [InitialState]\n",
    "    Closed = []\n",
    "\n",
    "    GScores = {InitialState: 0}\n",
    "    HScores = {InitialState: H_Dis(InitialState)}\n",
    "    FScores = {InitialState: HScores[InitialState]}\n",
    "\n",
    "    cameFrom = {}\n",
    "\n",
    "    while len(Open) != 0:\n",
    "        current = minOpen(Open, FScores)\n",
    "        steps += 1\n",
    "\n",
    "        if len(current) == 1:\n",
    "            return BuildPath(cameFrom, current), current, steps\n",
    "            \n",
    "        Open.remove(current)\n",
    "        Closed.append(current)\n",
    "\n",
    "        for i, n in enumerate(Neighbors(current)):\n",
    "            if n in Closed:\n",
    "                continue\n",
    "\n",
    "            tentativeGScore = GScores[current] + G_dis(current, n)\n",
    "\n",
    "            if not n in Open:\n",
    "                Open.append(n)\n",
    "                betterTentative = True\n",
    "            elif tentativeGScore < GScores[n]:\n",
    "                betterTentative = True\n",
    "            else:\n",
    "                betterTentative = False\n",
    "\n",
    "            if betterTentative:\n",
    "                cameFrom[n] = (i, current)\n",
    "\n",
    "                GScores[n] = tentativeGScore\n",
    "                HScores[n] = H_Dis(n)\n",
    "                FScores[n] = GScores[n] + HScores[n]\n",
    "    return 'Failure'\n",
    "\n",
    "word, end, steps = ShortestWord()\n",
    "word = word.replace('0', 'A').replace('1', 'B')\n",
    "print(steps, word, '->', end)\n"
   ]
  },
  {
   "cell_type": "code",
   "execution_count": null,
   "metadata": {},
   "outputs": [],
   "source": []
  },
  {
   "cell_type": "markdown",
   "metadata": {},
   "source": []
  }
 ],
 "metadata": {
  "kernelspec": {
   "display_name": "Python 3.10.2 64-bit",
   "language": "python",
   "name": "python3"
  },
  "language_info": {
   "codemirror_mode": {
    "name": "ipython",
    "version": 3
   },
   "file_extension": ".py",
   "mimetype": "text/x-python",
   "name": "python",
   "nbconvert_exporter": "python",
   "pygments_lexer": "ipython3",
   "version": "3.10.2"
  },
  "orig_nbformat": 4,
  "vscode": {
   "interpreter": {
    "hash": "369f2c481f4da34e4445cda3fffd2e751bd1c4d706f27375911949ba6bb62e1c"
   }
  }
 },
 "nbformat": 4,
 "nbformat_minor": 2
}
