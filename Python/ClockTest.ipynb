{
 "cells": [
  {
   "cell_type": "markdown",
   "metadata": {},
   "source": [
    "# Clock Game Sync Word Finder"
   ]
  },
  {
   "cell_type": "code",
   "execution_count": 17,
   "metadata": {},
   "outputs": [],
   "source": [
    "Numbers = [\n",
    "    'dodici',\n",
    "    'uno',\n",
    "    'due',\n",
    "    'tre',\n",
    "    'quattro',\n",
    "    'cinque',\n",
    "    'sei',\n",
    "    'sette',\n",
    "    'otto',\n",
    "    'nove',\n",
    "    'dieci',\n",
    "    'undici',\n",
    "]\n",
    "\n",
    "nNumbers = len(Numbers)"
   ]
  },
  {
   "cell_type": "code",
   "execution_count": 3,
   "metadata": {},
   "outputs": [
    {
     "data": {
      "text/plain": [
       "[[6, 6],\n",
       " [3, 4],\n",
       " [3, 5],\n",
       " [3, 6],\n",
       " [7, 11],\n",
       " [6, 11],\n",
       " [3, 9],\n",
       " [5, 0],\n",
       " [4, 0],\n",
       " [4, 1],\n",
       " [5, 3],\n",
       " [6, 5]]"
      ]
     },
     "execution_count": 3,
     "metadata": {},
     "output_type": "execute_result"
    }
   ],
   "source": [
    "Automaton = [[len(n) % nNumbers, (len(n) + i) % nNumbers] for i, n in enumerate(Numbers)]\n",
    "Automaton"
   ]
  },
  {
   "cell_type": "code",
   "execution_count": 12,
   "metadata": {},
   "outputs": [],
   "source": [
    "def Delta(state, move):\n",
    "    return Automaton[state][move]"
   ]
  },
  {
   "cell_type": "code",
   "execution_count": 13,
   "metadata": {},
   "outputs": [],
   "source": [
    "def Execute(word, starting_state):\n",
    "    state = starting_state\n",
    "    for c in word:\n",
    "        state = Delta(state, int(c))\n",
    "    return state"
   ]
  },
  {
   "cell_type": "code",
   "execution_count": 14,
   "metadata": {},
   "outputs": [],
   "source": [
    "def hasKnownSyncWord(SyncWords, word):\n",
    "    for w in SyncWords:\n",
    "        if w in word:\n",
    "            return True\n",
    "    return False"
   ]
  },
  {
   "cell_type": "code",
   "execution_count": 25,
   "metadata": {},
   "outputs": [
    {
     "name": "stdout",
     "output_type": "stream",
     "text": [
      "30 AAAAA -> {3}\n",
      "98 BAABAA -> {3}\n",
      "252 BBBBBBA -> {6}\n",
      "322 ABAAABAA -> {3}\n",
      "494 BBBBAAAA -> {3}\n",
      "530 AAAABABAA -> {3}\n",
      "572 AAABBBBBA -> {6}\n",
      "700 ABABBBBBA -> {6}\n",
      "706 ABBAAABAA -> {3}\n",
      "1012 BBBBBABBA -> {3}\n",
      "1074 AAAABBABAA -> {3}\n",
      "1134 AAABBBAAAA -> {3}\n",
      "1306 ABAAABBBAA -> {3}\n",
      "1309 ABAAABBBBB -> {11}\n",
      "1330 ABAABBABAA -> {3}\n",
      "1390 ABABBBAAAA -> {3}\n",
      "1468 ABBABBBBBA -> {6}\n",
      "1618 BAABABABAA -> {3}\n",
      "2138 AAAABABBBAA -> {3}\n",
      "2141 AAAABABBBBB -> {11}\n",
      "2162 AAAABBBABAA -> {3}\n",
      "2292 AAABBBBABBA -> {3}\n",
      "2674 ABAABBBABAA -> {3}\n",
      "2804 ABABBBBABBA -> {3}\n",
      "2842 ABBAAABBBAA -> {3}\n",
      "2845 ABBAAABBBBB -> {11}\n",
      "2866 ABBAABBABAA -> {3}\n",
      "2926 ABBABBBAAAA -> {3}\n",
      "3250 BAABABBABAA -> {3}\n",
      "3994 BBBBAABBBAA -> {3}\n",
      "3997 BBBBAABBBBB -> {11}\n",
      "4018 BBBBABBABAA -> {3}\n",
      "4314 AAAABBABBBAA -> {3}\n",
      "4317 AAAABBABBBBB -> {11}\n",
      "5202 ABAAABABABAA -> {3}\n",
      "5226 ABAAABBABBAA -> {3}\n",
      "5338 ABAABBABBBAA -> {3}\n",
      "5341 ABAABBABBBBB -> {11}\n",
      "5362 ABAABBBBABAA -> {3}\n",
      "5746 ABBAABBBABAA -> {3}\n",
      "5876 ABBABBBBABBA -> {3}\n",
      "6490 BAABABABBBAA -> {3}\n",
      "6493 BAABABABBBBB -> {11}\n",
      "6514 BAABABBBABAA -> {3}\n",
      "6594 BAABBBAAABAA -> {3}\n",
      "7954 BBBBAAABABAA -> {3}\n",
      "8050 BBBBABBBABAA -> {3}\n",
      "8106 BBBBBABABBAA -> {3}\n",
      "8120 BBBBBABBBABA -> {6}\n",
      "8122 BBBBBABBBBAA -> {3}\n",
      "8125 BBBBBABBBBBB -> {11}\n",
      "8530 AAAABABABABAA -> {3}\n",
      "8554 AAAABABBABBAA -> {3}\n",
      "9114 AAABBBAABBBAA -> {3}\n",
      "9117 AAABBBAABBBBB -> {11}\n",
      "9138 AAABBBABBABAA -> {3}\n"
     ]
    }
   ],
   "source": [
    "iter = 10000\n",
    "SyncWords = []\n",
    "\n",
    "for n in range(iter):\n",
    "    word = str(format(n + 2, 'b'))[1:]\n",
    "    if not hasKnownSyncWord(SyncWords, word):\n",
    "        outSet = set()\n",
    "\n",
    "        for i in range(nNumbers):\n",
    "            output = Execute(word, i)\n",
    "            outSet.add(output)\n",
    "            \n",
    "        if(len(outSet) == 1):\n",
    "            SyncWords.append(word)\n",
    "            print(n, word.replace('0', 'A').replace('1', 'B') + ' ->', outSet)"
   ]
  }
 ],
 "metadata": {
  "kernelspec": {
   "display_name": "Python 3.10.2 64-bit",
   "language": "python",
   "name": "python3"
  },
  "language_info": {
   "codemirror_mode": {
    "name": "ipython",
    "version": 3
   },
   "file_extension": ".py",
   "mimetype": "text/x-python",
   "name": "python",
   "nbconvert_exporter": "python",
   "pygments_lexer": "ipython3",
   "version": "3.10.2"
  },
  "orig_nbformat": 4,
  "vscode": {
   "interpreter": {
    "hash": "369f2c481f4da34e4445cda3fffd2e751bd1c4d706f27375911949ba6bb62e1c"
   }
  }
 },
 "nbformat": 4,
 "nbformat_minor": 2
}
