{
 "cells": [
  {
   "cell_type": "markdown",
   "metadata": {},
   "source": [
    "# Clock Game Sync Word Finder"
   ]
  },
  {
   "cell_type": "code",
   "execution_count": 50,
   "metadata": {},
   "outputs": [],
   "source": [
    "Numbers = [\n",
    "    'dodici',\n",
    "    'uno',\n",
    "    'due',\n",
    "    'tre',\n",
    "    'quattro',\n",
    "    'cinque',\n",
    "    'sei',\n",
    "    'sette',\n",
    "    'otto',\n",
    "    'nove',\n",
    "    'dieci',\n",
    "    'undici',\n",
    "]\n",
    "\n",
    "nNumbers = len(Numbers)"
   ]
  },
  {
   "cell_type": "code",
   "execution_count": 51,
   "metadata": {},
   "outputs": [],
   "source": [
    "#Automaton for Italian Regions\n",
    "Automaton = [\n",
    "    [7, 11],\n",
    "    [5, 3],\n",
    "    [1, 3],\n",
    "    [6, 0],\n",
    "    [5, 1],\n",
    "    [7, 6],\n",
    "    [0, 7],\n",
    "    [8, 11],\n",
    "    [9, 5],\n",
    "    [5, 4],\n",
    "    [9, 8],\n",
    "    [10, 8],\n",
    "]"
   ]
  },
  {
   "cell_type": "code",
   "execution_count": 52,
   "metadata": {},
   "outputs": [
    {
     "data": {
      "text/plain": [
       "[[6, 6],\n",
       " [3, 4],\n",
       " [3, 5],\n",
       " [3, 6],\n",
       " [7, 11],\n",
       " [6, 11],\n",
       " [3, 9],\n",
       " [5, 0],\n",
       " [4, 0],\n",
       " [4, 1],\n",
       " [5, 3],\n",
       " [6, 5]]"
      ]
     },
     "execution_count": 52,
     "metadata": {},
     "output_type": "execute_result"
    }
   ],
   "source": [
    "Automaton = [[len(n) % nNumbers, (len(n) + i) % nNumbers] for i, n in enumerate(Numbers)]\n",
    "Automaton"
   ]
  },
  {
   "cell_type": "code",
   "execution_count": 54,
   "metadata": {},
   "outputs": [],
   "source": [
    "def Delta(state, move):\n",
    "    return Automaton[state][move]"
   ]
  },
  {
   "cell_type": "code",
   "execution_count": 55,
   "metadata": {},
   "outputs": [],
   "source": [
    "def Execute(word, starting_state):\n",
    "    state = starting_state\n",
    "    for c in word:\n",
    "        state = Delta(state, int(c))\n",
    "    return state"
   ]
  },
  {
   "cell_type": "code",
   "execution_count": 56,
   "metadata": {},
   "outputs": [],
   "source": [
    "def hasKnownSyncWord(SyncWords, word):\n",
    "    for w in SyncWords:\n",
    "        if w in word:\n",
    "            return True\n",
    "    return False"
   ]
  },
  {
   "cell_type": "code",
   "execution_count": 62,
   "metadata": {},
   "outputs": [
    {
     "name": "stdout",
     "output_type": "stream",
     "text": [
      "61 BBBBB -> {3}\n",
      "89 ABBABB -> {3}\n",
      "127 AAAAAAB -> {6}\n",
      "269 AAAABBBB -> {3}\n",
      "441 BABBBABB -> {3}\n",
      "519 AAAAABAAB -> {3}\n",
      "825 BAABBBABB -> {3}\n",
      "831 BABAAAAAB -> {6}\n",
      "959 BBBAAAAAB -> {6}\n",
      "1001 BBBBABABB -> {3}\n",
      "1449 ABBABABABB -> {3}\n",
      "1599 BAABAAAAAB -> {6}\n",
      "1677 BABAAABBBB -> {3}\n",
      "1737 BABBAABABB -> {3}\n",
      "1758 BABBBAAAAA -> {11}\n",
      "1761 BABBBAAABB -> {3}\n",
      "1933 BBBAAABBBB -> {3}\n",
      "1993 BBBBAABABB -> {3}\n",
      "2121 AAAABAABABB -> {3}\n",
      "2142 AAAABBAAAAA -> {11}\n",
      "2145 AAAABBAAABB -> {3}\n",
      "2889 ABBABAABABB -> {3}\n",
      "3213 BAABAAABBBB -> {3}\n",
      "3273 BAABBAABABB -> {3}\n",
      "3294 BAABBBAAAAA -> {11}\n",
      "3297 BAABBBAAABB -> {3}\n",
      "3335 BABAAAABAAB -> {3}\n",
      "3465 BABBAAABABB -> {3}\n",
      "3847 BBBAAAABAAB -> {3}\n",
      "3977 BBBBAAABABB -> {3}\n",
      "3998 BBBBABAAAAA -> {11}\n",
      "4001 BBBBABAAABB -> {3}\n",
      "4158 AAAAABAAAAAA -> {11}\n",
      "4161 AAAAABAAAABB -> {3}\n",
      "4163 AAAAABAAABAB -> {6}\n",
      "4177 AAAAABABAABB -> {3}\n",
      "4233 AAAABAAABABB -> {3}\n",
      "4329 AAAABBBABABB -> {3}\n",
      "5689 ABBAAABBBABB -> {3}\n",
      "5769 ABBABAAABABB -> {3}\n",
      "5790 ABBABABAAAAA -> {11}\n",
      "5793 ABBABABAAABB -> {3}\n",
      "6407 BAABAAAABAAB -> {3}\n",
      "6537 BAABBAAABABB -> {3}\n",
      "6921 BABBAAAABABB -> {3}\n",
      "6942 BABBAABAAAAA -> {11}\n",
      "6945 BABBAABAAABB -> {3}\n",
      "7057 BABBBAABAABB -> {3}\n",
      "7081 BABBBABABABB -> {3}\n",
      "7966 BBBBAABAAAAA -> {11}\n",
      "7969 BBBBAABAAABB -> {3}\n",
      "8331 AAAAABAAABBAB -> {6}\n",
      "8351 AAAAABABAAAAB -> {6}\n",
      "8478 AAAABAABAAAAA -> {11}\n",
      "8481 AAAABAABAAABB -> {3}\n",
      "8593 AAAABBAABAABB -> {3}\n",
      "8649 AAAABBBAABABB -> {3}\n",
      "11327 ABBAAABAAAAAB -> {6}\n",
      "11550 ABBABAABAAAAA -> {11}\n",
      "11553 ABBABAABAAABB -> {3}\n",
      "13065 BAABBAAAABABB -> {3}\n",
      "13086 BAABBAABAAAAA -> {11}\n",
      "13089 BAABBAABAAABB -> {3}\n",
      "13201 BAABBBAABAABB -> {3}\n",
      "13225 BAABBBABABABB -> {3}\n",
      "13385 BABAAABAABABB -> {3}\n",
      "13406 BABAAABBAAAAA -> {11}\n",
      "13409 BABAAABBAAABB -> {3}\n",
      "13854 BABBAAABAAAAA -> {11}\n",
      "13857 BABBAAABAAABB -> {3}\n",
      "14111 BABBBAABAAAAB -> {6}\n",
      "14153 BABBBABAABABB -> {3}\n",
      "15433 BBBAAABAABABB -> {3}\n",
      "15454 BBBAAABBAAAAA -> {11}\n",
      "15457 BBBAAABBAAABB -> {3}\n",
      "16017 BBBBABAABAABB -> {3}\n",
      "16041 BBBBABABABABB -> {3}\n",
      "16657 AAAAABAAABAABB -> {3}\n",
      "16721 AAAAABABABAABB -> {3}\n",
      "17159 AAAABBAAAABAAB -> {3}\n",
      "17183 AAAABBAABAAAAB -> {6}\n",
      "17289 AAAABBBAAABABB -> {3}\n",
      "17310 AAAABBBABAAAAA -> {11}\n",
      "17313 AAAABBBABAAABB -> {3}\n",
      "22669 ABBAAABAAABBBB -> {3}\n",
      "22729 ABBAAABBAABABB -> {3}\n",
      "22750 ABBAAABBBAAAAA -> {11}\n",
      "22753 ABBAAABBBAAABB -> {3}\n",
      "23185 ABBABABAABAABB -> {3}\n",
      "23209 ABBABABABABABB -> {3}\n",
      "25673 BAABAAABAABABB -> {3}\n",
      "25694 BAABAAABBAAAAA -> {11}\n",
      "25697 BAABAAABBAAABB -> {3}\n",
      "26142 BAABBAAABAAAAA -> {11}\n",
      "26145 BAABBAAABAAABB -> {3}\n",
      "26399 BAABBBAABAAAAB -> {6}\n",
      "26441 BAABBBABAABABB -> {3}\n",
      "26686 BABAAAABAAAAAA -> {11}\n",
      "26689 BABAAAABAAAABB -> {3}\n",
      "26691 BABAAAABAAABAB -> {6}\n",
      "26705 BABAAAABABAABB -> {3}\n",
      "26761 BABAAABAAABABB -> {3}\n",
      "26857 BABAAABBBABABB -> {3}\n",
      "27793 BABBAABAABAABB -> {3}\n",
      "27817 BABBAABABABABB -> {3}\n",
      "28201 BABBBAAABABABB -> {3}\n",
      "28241 BABBBAABABAABB -> {3}\n",
      "28297 BABBBABAAABABB -> {3}\n",
      "28318 BABBBABABAAAAA -> {11}\n",
      "28321 BABBBABABAAABB -> {3}\n",
      "30782 BBBAAAABAAAAAA -> {11}\n",
      "30785 BBBAAAABAAAABB -> {3}\n",
      "30787 BBBAAAABAAABAB -> {6}\n",
      "30801 BBBAAAABABAABB -> {3}\n",
      "30857 BBBAAABAAABABB -> {3}\n",
      "30953 BBBAAABBBABABB -> {3}\n",
      "31889 BBBBAABAABAABB -> {3}\n",
      "31913 BBBBAABABABABB -> {3}\n",
      "32031 BBBBABAABAAAAB -> {6}\n",
      "32073 BBBBABABAABABB -> {3}\n"
     ]
    }
   ],
   "source": [
    "maxLen = 15\n",
    "iter = 2**maxLen\n",
    "SyncWords = []\n",
    "\n",
    "for n in range(iter):\n",
    "    word = str(format(n + 2, 'b'))[1:]\n",
    "    if not hasKnownSyncWord(SyncWords, word):\n",
    "        outSet = set()\n",
    "\n",
    "        for i in range(nNumbers):\n",
    "            output = Execute(word, i)\n",
    "            outSet.add(output)\n",
    "            \n",
    "        if(len(outSet) == 1):\n",
    "            SyncWords.append(word)\n",
    "            print(n, word.replace('0', 'A').replace('1', 'B') + ' ->', outSet)"
   ]
  },
  {
   "cell_type": "code",
   "execution_count": 58,
   "metadata": {},
   "outputs": [],
   "source": [
    "def Step(State, move):\n",
    "    res = set()\n",
    "    for s in State:\n",
    "        res.add(Automaton[s][move])\n",
    "    return tuple(sorted(res))\n",
    "\n",
    "def Neighbors(State):\n",
    "    output = []\n",
    "    for m in range(len(Automaton[0])):\n",
    "        output.append(Step(State, m))\n",
    "    return output\n",
    "\n",
    "def minOpen(Open, FScores):\n",
    "    minScore = FScores[Open[0]]\n",
    "    out = Open[0]\n",
    "    for o in Open[1:]:\n",
    "        score = FScores[o]\n",
    "        if score < minScore:\n",
    "            minScore = score\n",
    "            out = o\n",
    "    return out\n",
    "\n",
    "def BuildPath(CameFrom, node):\n",
    "    if node in CameFrom:\n",
    "        return BuildPath(CameFrom, CameFrom[node][1]) + str(CameFrom[node][0])\n",
    "    else:\n",
    "        return \"\"\n"
   ]
  },
  {
   "cell_type": "code",
   "execution_count": 59,
   "metadata": {},
   "outputs": [],
   "source": [
    "def H_Dis(state):\n",
    "    return len(state)\n",
    "\n",
    "def G_dis(state1, state2):\n",
    "    return 1"
   ]
  },
  {
   "cell_type": "code",
   "execution_count": 60,
   "metadata": {},
   "outputs": [
    {
     "name": "stdout",
     "output_type": "stream",
     "text": [
      "10 BBAAAB -> (9,)\n"
     ]
    }
   ],
   "source": [
    "def ShortestWord():\n",
    "    InitialState = tuple([_ for _ in range(nNumbers)])\n",
    "    steps = 0\n",
    "\n",
    "    Open = [InitialState]\n",
    "    Closed = []\n",
    "\n",
    "    GScores = {InitialState: 0}\n",
    "    HScores = {InitialState: H_Dis(InitialState)}\n",
    "    FScores = {InitialState: HScores[InitialState]}\n",
    "\n",
    "    cameFrom = {}\n",
    "\n",
    "    while len(Open) != 0:\n",
    "        current = minOpen(Open, FScores)\n",
    "        steps += 1\n",
    "\n",
    "        if len(current) == 1:\n",
    "            return BuildPath(cameFrom, current), current, steps\n",
    "            \n",
    "        Open.remove(current)\n",
    "        Closed.append(current)\n",
    "\n",
    "        for i, n in enumerate(Neighbors(current)):\n",
    "            if n in Closed:\n",
    "                continue\n",
    "\n",
    "            tentativeGScore = GScores[current] + G_dis(current, n)\n",
    "\n",
    "            if not n in Open:\n",
    "                Open.append(n)\n",
    "                betterTentative = True\n",
    "            elif tentativeGScore < GScores[n]:\n",
    "                betterTentative = True\n",
    "            else:\n",
    "                betterTentative = False\n",
    "\n",
    "            if betterTentative:\n",
    "                cameFrom[n] = (i, current)\n",
    "\n",
    "                GScores[n] = tentativeGScore\n",
    "                HScores[n] = H_Dis(n)\n",
    "                FScores[n] = GScores[n] + HScores[n]\n",
    "    return 'Failure'\n",
    "\n",
    "word, end, steps = ShortestWord()\n",
    "word = word.replace('0', 'A').replace('1', 'B')\n",
    "print(steps, word, '->', end)\n"
   ]
  },
  {
   "cell_type": "code",
   "execution_count": null,
   "metadata": {},
   "outputs": [],
   "source": []
  },
  {
   "cell_type": "markdown",
   "metadata": {},
   "source": []
  }
 ],
 "metadata": {
  "kernelspec": {
   "display_name": "Python 3.10.2 64-bit",
   "language": "python",
   "name": "python3"
  },
  "language_info": {
   "codemirror_mode": {
    "name": "ipython",
    "version": 3
   },
   "file_extension": ".py",
   "mimetype": "text/x-python",
   "name": "python",
   "nbconvert_exporter": "python",
   "pygments_lexer": "ipython3",
   "version": "3.10.2"
  },
  "orig_nbformat": 4,
  "vscode": {
   "interpreter": {
    "hash": "369f2c481f4da34e4445cda3fffd2e751bd1c4d706f27375911949ba6bb62e1c"
   }
  }
 },
 "nbformat": 4,
 "nbformat_minor": 2
}
