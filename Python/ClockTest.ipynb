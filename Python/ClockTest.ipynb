{
 "cells": [
  {
   "cell_type": "markdown",
   "metadata": {},
   "source": [
    "# Clock Game Sync Word Finder"
   ]
  },
  {
   "cell_type": "code",
   "execution_count": 17,
   "metadata": {},
   "outputs": [],
   "source": [
    "Numbers = [\n",
    "    'dodici',\n",
    "    'uno',\n",
    "    'due',\n",
    "    'tre',\n",
    "    'quattro',\n",
    "    'cinque',\n",
    "    'sei',\n",
    "    'sette',\n",
    "    'otto',\n",
    "    'nove',\n",
    "    'dieci',\n",
    "    'undici',\n",
    "]\n",
    "\n",
    "nNumbers = len(Numbers)"
   ]
  },
  {
   "cell_type": "code",
   "execution_count": 18,
   "metadata": {},
   "outputs": [
    {
     "data": {
      "text/plain": [
       "[[6, 6],\n",
       " [3, 4],\n",
       " [3, 5],\n",
       " [3, 6],\n",
       " [7, 11],\n",
       " [6, 11],\n",
       " [3, 9],\n",
       " [5, 0],\n",
       " [4, 0],\n",
       " [4, 1],\n",
       " [5, 3],\n",
       " [6, 5]]"
      ]
     },
     "execution_count": 18,
     "metadata": {},
     "output_type": "execute_result"
    }
   ],
   "source": [
    "Automaton = [[len(n) % nNumbers, (len(n) + i) % nNumbers] for i, n in enumerate(Numbers)]\n",
    "Automaton"
   ]
  },
  {
   "cell_type": "code",
   "execution_count": 19,
   "metadata": {},
   "outputs": [],
   "source": [
    "#Automaton for Italian Regions\n",
    "Automaton = [\n",
    "    [7, 11],\n",
    "    [5, 3],\n",
    "    [1, 3],\n",
    "    [6, 0],\n",
    "    [5, 1],\n",
    "    [7, 6],\n",
    "    [0, 7],\n",
    "    [8, 11],\n",
    "    [9, 5],\n",
    "    [5, 4],\n",
    "    [9, 8],\n",
    "    [10, 8],\n",
    "]"
   ]
  },
  {
   "cell_type": "code",
   "execution_count": 20,
   "metadata": {},
   "outputs": [],
   "source": [
    "def Delta(state, move):\n",
    "    return Automaton[state][move]"
   ]
  },
  {
   "cell_type": "code",
   "execution_count": 21,
   "metadata": {},
   "outputs": [],
   "source": [
    "def Execute(word, starting_state):\n",
    "    state = starting_state\n",
    "    for c in word:\n",
    "        state = Delta(state, int(c))\n",
    "    return state"
   ]
  },
  {
   "cell_type": "code",
   "execution_count": 22,
   "metadata": {},
   "outputs": [],
   "source": [
    "def hasKnownSyncWord(SyncWords, word):\n",
    "    for w in SyncWords:\n",
    "        if w in word:\n",
    "            return True\n",
    "    return False"
   ]
  },
  {
   "cell_type": "code",
   "execution_count": 23,
   "metadata": {},
   "outputs": [
    {
     "name": "stdout",
     "output_type": "stream",
     "text": [
      "9586 AABABABBBABAA -> {9}\n",
      "9594 AABABABBBBBAA -> {9}\n",
      "9691 AABABBBABBBAB -> {11}\n",
      "9795 AABBAABAAABAB -> {11}\n",
      "18499 AABAAAABAAABAB -> {11}\n",
      "18562 AABAAABAAAABAA -> {7}\n",
      "18570 AABAAABAAABBAA -> {7}\n",
      "18627 AABAAABBAAABAB -> {11}\n",
      "19011 AABABAABAAABAB -> {11}\n",
      "19362 AABABBBABAABAA -> {7}\n",
      "19547 AABBAAABABBBAB -> {11}\n",
      "20338 AABBBBABBBABAA -> {9}\n",
      "20346 AABBBBABBBBBAA -> {9}\n"
     ]
    }
   ],
   "source": [
    "maxLen = 15\n",
    "iter = 2**maxLen\n",
    "SyncWords = []\n",
    "\n",
    "for n in range(iter):\n",
    "    word = str(format(n + 2, 'b'))[1:]\n",
    "    if not hasKnownSyncWord(SyncWords, word):\n",
    "        outSet = set()\n",
    "\n",
    "        for i in range(nNumbers):\n",
    "            output = Execute(word, i)\n",
    "            outSet.add(output)\n",
    "            \n",
    "        if(len(outSet) == 1):\n",
    "            SyncWords.append(word)\n",
    "            print(n, word.replace('0', 'A').replace('1', 'B') + ' ->', outSet)"
   ]
  }
 ],
 "metadata": {
  "kernelspec": {
   "display_name": "Python 3.10.2 64-bit",
   "language": "python",
   "name": "python3"
  },
  "language_info": {
   "codemirror_mode": {
    "name": "ipython",
    "version": 3
   },
   "file_extension": ".py",
   "mimetype": "text/x-python",
   "name": "python",
   "nbconvert_exporter": "python",
   "pygments_lexer": "ipython3",
   "version": "3.10.2"
  },
  "orig_nbformat": 4,
  "vscode": {
   "interpreter": {
    "hash": "369f2c481f4da34e4445cda3fffd2e751bd1c4d706f27375911949ba6bb62e1c"
   }
  }
 },
 "nbformat": 4,
 "nbformat_minor": 2
}
